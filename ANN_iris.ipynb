{
  "nbformat": 4,
  "nbformat_minor": 0,
  "metadata": {
    "colab": {
      "provenance": [],
      "authorship_tag": "ABX9TyO+79V0ugkmuobe2Q/dVc6A",
      "include_colab_link": true
    },
    "kernelspec": {
      "name": "python3",
      "display_name": "Python 3"
    },
    "language_info": {
      "name": "python"
    }
  },
  "cells": [
    {
      "cell_type": "markdown",
      "metadata": {
        "id": "view-in-github",
        "colab_type": "text"
      },
      "source": [
        "<a href=\"https://colab.research.google.com/github/Mrkoi2002/AI/blob/main/ANN_iris.ipynb\" target=\"_parent\"><img src=\"https://colab.research.google.com/assets/colab-badge.svg\" alt=\"Open In Colab\"/></a>"
      ]
    },
    {
      "cell_type": "code",
      "execution_count": null,
      "metadata": {
        "id": "cVs88XaOxlzy"
      },
      "outputs": [],
      "source": [
        "# Gọi các thư viện\n",
        "from sklearn import datasets\n",
        "from sklearn.linear_model import Perceptron\n",
        "from sklearn.model_selection import train_test_split\n",
        "from sklearn.metrics import accuracy_score\n",
        "from sklearn.preprocessing import StandardScaler\n",
        "import seaborn as sas\n",
        "import pandas as pd\n",
        "import  numpy as np\n",
        "from sklearn.linear_model import LinearRegression\n"
      ]
    },
    {
      "cell_type": "code",
      "source": [
        "iris = datasets.load_iris()\n"
      ],
      "metadata": {
        "id": "Irf0SSxW0jSO"
      },
      "execution_count": null,
      "outputs": []
    },
    {
      "cell_type": "code",
      "source": [
        "X=iris.data\n",
        "y=iris.target\n",
        "print(X[:5])\n",
        "print(y[:5])"
      ],
      "metadata": {
        "colab": {
          "base_uri": "https://localhost:8080/"
        },
        "id": "FMXIAn8g2idN",
        "outputId": "9cbf8c37-e95d-451d-966a-b43f8e940c34"
      },
      "execution_count": null,
      "outputs": [
        {
          "output_type": "stream",
          "name": "stdout",
          "text": [
            "[[5.1 3.5 1.4 0.2]\n",
            " [4.9 3.  1.4 0.2]\n",
            " [4.7 3.2 1.3 0.2]\n",
            " [4.6 3.1 1.5 0.2]\n",
            " [5.  3.6 1.4 0.2]]\n",
            "[0 0 0 0 0]\n"
          ]
        }
      ]
    },
    {
      "cell_type": "code",
      "source": [
        "X_train, X_test, y_train, y_test = train_test_split(X, y, test_size=0.3)\n",
        "SC = StandardScaler()\n",
        "SC.fit(X_train)\n",
        "X_train_std = SC.transform(X_train)\n",
        "X_test_std = SC.transform(X_test)\n",
        "\n",
        "regressor = LinearRegression()\n",
        "regressor.fit(X_train, y_train)\n",
        "y_pred = regressor.predict(X_test).round(1)\n",
        "\n",
        "calculation = pd.DataFrame(np.c_[y_test, y_pred], columns = ['Original Price','Predicted Price'])\n",
        "print('Do chinh xac cua train:',regressor.score(X_train, y_train))\n",
        "print('Do chinh xac cua test:',regressor.score(X_test, y_test))\n",
        "     \n",
        "\n",
        "\n"
      ],
      "metadata": {
        "colab": {
          "base_uri": "https://localhost:8080/"
        },
        "id": "JC9_B_Bz3BSv",
        "outputId": "0b205ef3-b446-4e9e-fabb-84764c59fc2f"
      },
      "execution_count": null,
      "outputs": [
        {
          "output_type": "stream",
          "name": "stdout",
          "text": [
            "Do chinh xac cua train: 0.9400414125603199\n",
            "Do chinh xac cua test: 0.9068709133002238\n"
          ]
        }
      ]
    },
    {
      "cell_type": "code",
      "source": [
        "model = Perceptron(max_iter=40,eta0=0.1,random_state=0)\n",
        "model.fit(X_train_std,y_train)\n",
        "y_pred = model.predict(X_test_std)\n",
        "print(y_pred)\n",
        "print(y_test)\n",
        "print('Độ chính xác của mô hình:',accuracy_score(y_test,y_pred))\n",
        "\n",
        "\n"
      ],
      "metadata": {
        "colab": {
          "base_uri": "https://localhost:8080/"
        },
        "id": "OfRhIJVf5680",
        "outputId": "9966114b-0afe-4402-cc0f-d82ecbf92f6b"
      },
      "execution_count": null,
      "outputs": [
        {
          "output_type": "stream",
          "name": "stdout",
          "text": [
            "[2 1 0 2 0 0 1 0 2 1 1 0 1 2 2 0 0 2 2 1 1 0 1 2 0 1 0 2 0 2 0 2 1 0 2 1 0\n",
            " 2 2 2 0 1 2 1 1]\n",
            "[2 1 0 1 0 0 2 0 2 1 1 0 1 2 2 0 0 2 2 1 1 0 1 1 0 1 0 2 0 2 0 2 1 0 2 0 0\n",
            " 1 2 1 0 1 2 2 1]\n",
            "Độ chính xác của mô hình: 0.8444444444444444\n"
          ]
        }
      ]
    },
    {
      "cell_type": "code",
      "source": [],
      "metadata": {
        "id": "ly2qw9vBFnX-"
      },
      "execution_count": null,
      "outputs": []
    }
  ]
}