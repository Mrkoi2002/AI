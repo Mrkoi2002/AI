{
  "nbformat": 4,
  "nbformat_minor": 0,
  "metadata": {
    "colab": {
      "provenance": [],
      "mount_file_id": "1TeIERxWfxu74CiNVIh0HzA66pyJUbjjx",
      "authorship_tag": "ABX9TyMEdv8vFy2e+08+XfdHxW9f",
      "include_colab_link": true
    },
    "kernelspec": {
      "name": "python3",
      "display_name": "Python 3"
    },
    "language_info": {
      "name": "python"
    }
  },
  "cells": [
    {
      "cell_type": "markdown",
      "metadata": {
        "id": "view-in-github",
        "colab_type": "text"
      },
      "source": [
        "<a href=\"https://colab.research.google.com/github/Mrkoi2002/AI/blob/main/B%E1%BA%A3n_sao_c%E1%BB%A7a_Image_ANN.ipynb\" target=\"_parent\"><img src=\"https://colab.research.google.com/assets/colab-badge.svg\" alt=\"Open In Colab\"/></a>"
      ]
    },
    {
      "cell_type": "code",
      "execution_count": 1,
      "metadata": {
        "id": "yJmvwJTKHlfO"
      },
      "outputs": [],
      "source": [
        "from os import listdir\n",
        "from numpy import asarray\n",
        "from numpy import save\n",
        "from keras.utils.image_utils import img_to_array\n",
        "from keras.utils import load_img\n"
      ]
    },
    {
      "cell_type": "code",
      "source": [
        "from google.colab import drive\n",
        "drive.mount('/content/drive')"
      ],
      "metadata": {
        "colab": {
          "base_uri": "https://localhost:8080/"
        },
        "id": "8KHwmwxKAVvd",
        "outputId": "f46894b6-3e2e-4ed1-ec52-bf50f9e6e611"
      },
      "execution_count": 2,
      "outputs": [
        {
          "output_type": "stream",
          "name": "stdout",
          "text": [
            "Drive already mounted at /content/drive; to attempt to forcibly remount, call drive.mount(\"/content/drive\", force_remount=True).\n"
          ]
        }
      ]
    },
    {
      "cell_type": "code",
      "source": [
        "folder = '/content/drive/MyDrive/AI/'\n",
        "photos, labels = list(), list()\n",
        "for file in listdir(folder):\n",
        "  output = 0.0\n",
        "  if file.startswith('Cuong'):\n",
        "    output = 1.0  #'Cuong'\n",
        "  if file.startswith('Khanh'):\n",
        "    output = 2.0  #'Khanh'\n",
        "  if file.startswith('Thang'):\n",
        "    output = 3.0  #'Thang'\n",
        "  if file.startswith('Tri'):\n",
        "    output = 4.0  #'Tri'\n",
        "  photo = load_img (folder+file, target_size= (200,200))\n",
        "  photo = img_to_array (photo)\n",
        "  photos.append(photo)\n",
        "  labels.append(output)\n",
        "photos = asarray(photos)\n",
        "labels = asarray(labels)\n",
        "save('/content/drive/MyDrive/AI/train_anh_photo.npy', photos)\n",
        "save('/content/drive/MyDrive/AI/train_anh_label.npy', labels)"
      ],
      "metadata": {
        "id": "A3N9LOwyxXYr"
      },
      "execution_count": null,
      "outputs": []
    },
    {
      "cell_type": "code",
      "source": [
        "import numpy as np\n",
        "import pandas as pd\n",
        "import matplotlib.pyplot as plt\n",
        "import seaborn as sns"
      ],
      "metadata": {
        "id": "q8Hw8lBwHO_6"
      },
      "execution_count": null,
      "outputs": []
    },
    {
      "cell_type": "code",
      "source": [
        "photo = np.load('/content/drive/MyDrive/AI/train_anh_photo.npy')\n",
        "label = np.load('/content/drive/MyDrive/AI/train_anh_label.npy')"
      ],
      "metadata": {
        "id": "8ySFnkhUzkXr"
      },
      "execution_count": null,
      "outputs": []
    },
    {
      "cell_type": "code",
      "source": [
        "photo.shape\n"
      ],
      "metadata": {
        "id": "f84I7rJ_zti5"
      },
      "execution_count": null,
      "outputs": []
    },
    {
      "cell_type": "code",
      "source": [
        "label.shape"
      ],
      "metadata": {
        "id": "uGPj23kcz1yU"
      },
      "execution_count": null,
      "outputs": []
    },
    {
      "cell_type": "code",
      "source": [
        "photo = photo.reshape(229,200,200,3)\n",
        "photo = photo.astype('float32')/255"
      ],
      "metadata": {
        "id": "mvxTfkl5z37m"
      },
      "execution_count": null,
      "outputs": []
    },
    {
      "cell_type": "code",
      "source": [
        "from keras.utils import to_categorical\n",
        "\n",
        "label = to_categorical(label,5)"
      ],
      "metadata": {
        "id": "OJBxueGUz7TM"
      },
      "execution_count": null,
      "outputs": []
    },
    {
      "cell_type": "code",
      "source": [
        "from keras.models import Sequential\n",
        "from keras.models import Sequential, Model\n",
        "from keras.layers import Dense, Flatten, Dropout, Conv2D, MaxPooling2D, Normalization\n",
        "from keras.optimizers import Adam\n",
        "from keras.layers import LeakyReLU"
      ],
      "metadata": {
        "id": "zdAny7i30FVu"
      },
      "execution_count": null,
      "outputs": []
    },
    {
      "cell_type": "code",
      "source": [
        "batch_size = 128\n",
        "epochs = 50\n",
        "classes = 5"
      ],
      "metadata": {
        "id": "4isA4SPj0JNV"
      },
      "execution_count": null,
      "outputs": []
    },
    {
      "cell_type": "code",
      "source": [
        "model = Sequential()\n",
        "model.add(Conv2D(32, kernel_size= (3,3), activation= 'linear', input_shape= (200,200,3), padding= 'same'))\n",
        "from keras.layers import LeakyReLU\n",
        "model.add(LeakyReLU(alpha= 0.1))\n",
        "model.add(MaxPooling2D((2,2), padding= 'same'))\n",
        "\n",
        "model.add(Conv2D(64,(3,3), activation= 'linear', padding= 'same'))\n",
        "model.add(LeakyReLU(alpha= 0.1))\n",
        "model.add(MaxPooling2D((2,2), padding= 'same'))\n",
        "\n",
        "model.add(Conv2D(128,(3,3), activation= 'linear', padding= 'same'))\n",
        "model.add(LeakyReLU(alpha= 0.1))\n",
        "model.add(MaxPooling2D((2,2), padding= 'same'))\n",
        "\n",
        "model.add(Flatten())\n",
        "model.add(Dense(128, activation= 'linear'))\n",
        "model.add(LeakyReLU(alpha= 0.1))\n",
        "model.add(Dense(classes, activation= 'softmax'))\n",
        "model.summary()"
      ],
      "metadata": {
        "id": "ybRwvOrX0Las"
      },
      "execution_count": null,
      "outputs": []
    },
    {
      "cell_type": "code",
      "source": [
        "from keras.losses import categorical_crossentropy\n",
        "model.compile(optimizer= Adam(), loss= categorical_crossentropy, metrics= ['accuracy'])\n",
        "train = model.fit(photo, label, epochs= epochs, batch_size= batch_size, verbose= 1)"
      ],
      "metadata": {
        "id": "RKOqVX-Q0Qh-"
      },
      "execution_count": null,
      "outputs": []
    },
    {
      "cell_type": "code",
      "source": [
        "model.save('/content/drive/MyDrive/AI/train_anh.h5')"
      ],
      "metadata": {
        "id": "bjzGg2Me0Twi"
      },
      "execution_count": null,
      "outputs": []
    },
    {
      "cell_type": "code",
      "source": [],
      "metadata": {
        "id": "JmfgR6xG5grs"
      },
      "execution_count": null,
      "outputs": []
    }
  ]
}